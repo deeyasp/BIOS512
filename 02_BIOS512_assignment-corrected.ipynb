{
 "cells": [
  {
   "cell_type": "markdown",
   "id": "cd25411e-408b-49f1-bd11-f80c7d39395b",
   "metadata": {},
   "source": [
    "# BIOS512 Assignment #2"
   ]
  },
  {
   "cell_type": "markdown",
   "id": "47819309-5cd0-431b-ac11-14a1d388e1bf",
   "metadata": {},
   "source": [
    "📚 import the `TidyVerse` package. 📚"
   ]
  },
  {
   "cell_type": "code",
   "execution_count": 1,
   "id": "f86fae60-93e5-4f05-85e4-f12553e2f514",
   "metadata": {
    "tags": []
   },
   "outputs": [
    {
     "name": "stderr",
     "output_type": "stream",
     "text": [
      "Warning message:\n",
      "“Failed to locate timezone database”\n",
      "── \u001b[1mAttaching core tidyverse packages\u001b[22m ──────────────────────── tidyverse 2.0.0 ──\n",
      "\u001b[32m✔\u001b[39m \u001b[34mdplyr    \u001b[39m 1.1.3     \u001b[32m✔\u001b[39m \u001b[34mreadr    \u001b[39m 2.1.4\n",
      "\u001b[32m✔\u001b[39m \u001b[34mforcats  \u001b[39m 1.0.0     \u001b[32m✔\u001b[39m \u001b[34mstringr  \u001b[39m 1.5.0\n",
      "\u001b[32m✔\u001b[39m \u001b[34mggplot2  \u001b[39m 3.4.3     \u001b[32m✔\u001b[39m \u001b[34mtibble   \u001b[39m 3.2.1\n",
      "\u001b[32m✔\u001b[39m \u001b[34mlubridate\u001b[39m 1.9.2     \u001b[32m✔\u001b[39m \u001b[34mtidyr    \u001b[39m 1.3.0\n",
      "\u001b[32m✔\u001b[39m \u001b[34mpurrr    \u001b[39m 1.0.2     \n",
      "── \u001b[1mConflicts\u001b[22m ────────────────────────────────────────── tidyverse_conflicts() ──\n",
      "\u001b[31m✖\u001b[39m \u001b[34mdplyr\u001b[39m::\u001b[32mfilter()\u001b[39m masks \u001b[34mstats\u001b[39m::filter()\n",
      "\u001b[31m✖\u001b[39m \u001b[34mdplyr\u001b[39m::\u001b[32mlag()\u001b[39m    masks \u001b[34mstats\u001b[39m::lag()\n",
      "\u001b[36mℹ\u001b[39m Use the conflicted package (\u001b[3m\u001b[34m<http://conflicted.r-lib.org/>\u001b[39m\u001b[23m) to force all conflicts to become errors\n"
     ]
    }
   ],
   "source": [
    "library('tidyverse')"
   ]
  },
  {
   "cell_type": "markdown",
   "id": "c6e7ef5a-59a8-4d20-ac8f-bce768d14b97",
   "metadata": {},
   "source": [
    "Uncomment the code below and execute the following cell. This code provides a table for us called `ncaa_sports_spending`."
   ]
  },
  {
   "cell_type": "code",
   "execution_count": 2,
   "id": "f0867550-2743-491b-9cdb-4de89fba5991",
   "metadata": {
    "tags": []
   },
   "outputs": [
    {
     "data": {
      "text/html": [
       "<table class=\"dataframe\">\n",
       "<caption>A tibble: 20000 × 4</caption>\n",
       "<thead>\n",
       "\t<tr><th scope=col>year</th><th scope=col>institution_name</th><th scope=col>men_or_women</th><th scope=col>expenditure_usd</th></tr>\n",
       "\t<tr><th scope=col>&lt;dbl&gt;</th><th scope=col>&lt;chr&gt;</th><th scope=col>&lt;chr&gt;</th><th scope=col>&lt;dbl&gt;</th></tr>\n",
       "</thead>\n",
       "<tbody>\n",
       "\t<tr><td>2015</td><td><span style=white-space:pre-wrap>Alabama A &amp; M University                           </span></td><td><span style=white-space:pre-wrap>men  </span></td><td> 817868</td></tr>\n",
       "\t<tr><td>2015</td><td><span style=white-space:pre-wrap>Alabama A &amp; M University                           </span></td><td>women</td><td> 742460</td></tr>\n",
       "\t<tr><td>2015</td><td>University of Alabama at Birmingham                </td><td>men  </td><td>4189826</td></tr>\n",
       "\t<tr><td>2015</td><td>University of Alabama at Birmingham                </td><td>women</td><td>1962579</td></tr>\n",
       "\t<tr><td>2015</td><td>University of Alabama in Huntsville                </td><td>men  </td><td> 612569</td></tr>\n",
       "\t<tr><td>2015</td><td>University of Alabama in Huntsville                </td><td>women</td><td> 386007</td></tr>\n",
       "\t<tr><td>2015</td><td>Alabama State University                           </td><td>men  </td><td> 859867</td></tr>\n",
       "\t<tr><td>2015</td><td>Alabama State University                           </td><td>women</td><td> 695056</td></tr>\n",
       "\t<tr><td>2015</td><td>The University of Alabama                          </td><td>men  </td><td>8577428</td></tr>\n",
       "\t<tr><td>2015</td><td>The University of Alabama                          </td><td>women</td><td>3550880</td></tr>\n",
       "\t<tr><td>2015</td><td>Auburn University at Montgomery                    </td><td>men  </td><td> 427164</td></tr>\n",
       "\t<tr><td>2015</td><td>Auburn University at Montgomery                    </td><td>women</td><td> 391773</td></tr>\n",
       "\t<tr><td>2015</td><td>Auburn University                                  </td><td>men  </td><td>8821985</td></tr>\n",
       "\t<tr><td>2015</td><td>Auburn University                                  </td><td>women</td><td>3959159</td></tr>\n",
       "\t<tr><td>2015</td><td>Birmingham Southern College                        </td><td>men  </td><td> 197692</td></tr>\n",
       "\t<tr><td>2015</td><td>Birmingham Southern College                        </td><td>women</td><td> 168107</td></tr>\n",
       "\t<tr><td>2015</td><td>Chattahoochee Valley Community College             </td><td>men  </td><td> 274822</td></tr>\n",
       "\t<tr><td>2015</td><td>Chattahoochee Valley Community College             </td><td>women</td><td> 227140</td></tr>\n",
       "\t<tr><td>2015</td><td>Concordia College Alabama                          </td><td>men  </td><td> 153582</td></tr>\n",
       "\t<tr><td>2015</td><td>Concordia College Alabama                          </td><td>women</td><td> 118010</td></tr>\n",
       "\t<tr><td>2015</td><td>Enterprise State Community College                 </td><td>men  </td><td> 118667</td></tr>\n",
       "\t<tr><td>2015</td><td>Enterprise State Community College                 </td><td>women</td><td> 106631</td></tr>\n",
       "\t<tr><td>2015</td><td>James H Faulkner State Community College           </td><td>men  </td><td> 221921</td></tr>\n",
       "\t<tr><td>2015</td><td>James H Faulkner State Community College           </td><td>women</td><td> 157552</td></tr>\n",
       "\t<tr><td>2015</td><td>Faulkner University                                </td><td>men  </td><td> 622869</td></tr>\n",
       "\t<tr><td>2015</td><td>Faulkner University                                </td><td>women</td><td> 562109</td></tr>\n",
       "\t<tr><td>2015</td><td>Gadsden State Community College                    </td><td>men  </td><td> 109029</td></tr>\n",
       "\t<tr><td>2015</td><td>Gadsden State Community College                    </td><td>women</td><td> 117641</td></tr>\n",
       "\t<tr><td>2015</td><td>George C Wallace State Community College-Hanceville</td><td>men  </td><td> 203674</td></tr>\n",
       "\t<tr><td>2015</td><td>George C Wallace State Community College-Hanceville</td><td>women</td><td> 133415</td></tr>\n",
       "\t<tr><td>⋮</td><td>⋮</td><td>⋮</td><td>⋮</td></tr>\n",
       "\t<tr><td>2019</td><td>Middle Georgia State University  </td><td>men  </td><td> 168907</td></tr>\n",
       "\t<tr><td>2019</td><td>Middle Georgia State University  </td><td>women</td><td> 126771</td></tr>\n",
       "\t<tr><td>2019</td><td>University of North Georgia      </td><td>men  </td><td> 509209</td></tr>\n",
       "\t<tr><td>2019</td><td>University of North Georgia      </td><td>women</td><td> 494853</td></tr>\n",
       "\t<tr><td>2019</td><td>South Georgia State College      </td><td>men  </td><td> 106955</td></tr>\n",
       "\t<tr><td>2019</td><td>South Georgia State College      </td><td>women</td><td>     NA</td></tr>\n",
       "\t<tr><td>2019</td><td>Central Georgia Technical College</td><td>men  </td><td> 149433</td></tr>\n",
       "\t<tr><td>2019</td><td>Central Georgia Technical College</td><td>women</td><td> 138595</td></tr>\n",
       "\t<tr><td>2019</td><td>Georgia Military College         </td><td>men  </td><td>     NA</td></tr>\n",
       "\t<tr><td>2019</td><td>Georgia Military College         </td><td>women</td><td>     NA</td></tr>\n",
       "\t<tr><td>2019</td><td>Kennesaw State University        </td><td>men  </td><td>1471167</td></tr>\n",
       "\t<tr><td>2019</td><td>Kennesaw State University        </td><td>women</td><td>1192178</td></tr>\n",
       "\t<tr><td>2019</td><td>Milligan College                 </td><td>men  </td><td> 357684</td></tr>\n",
       "\t<tr><td>2019</td><td>Milligan College                 </td><td>women</td><td> 369152</td></tr>\n",
       "\t<tr><td>2019</td><td>Emory University-Oxford College  </td><td>men  </td><td> 128696</td></tr>\n",
       "\t<tr><td>2019</td><td>Emory University-Oxford College  </td><td>women</td><td>     NA</td></tr>\n",
       "\t<tr><td>2019</td><td>Husson University                </td><td>men  </td><td>  76660</td></tr>\n",
       "\t<tr><td>2019</td><td>Husson University                </td><td>women</td><td> 155639</td></tr>\n",
       "\t<tr><td>2019</td><td>University of Saint Katherine    </td><td>men  </td><td> 264993</td></tr>\n",
       "\t<tr><td>2019</td><td>University of Saint Katherine    </td><td>women</td><td> 195656</td></tr>\n",
       "\t<tr><td>2019</td><td>Clovis Community College         </td><td>men  </td><td>     NA</td></tr>\n",
       "\t<tr><td>2019</td><td>Clovis Community College         </td><td>women</td><td>     NA</td></tr>\n",
       "\t<tr><td>2019</td><td>Piedmont International University</td><td>men  </td><td> 222383</td></tr>\n",
       "\t<tr><td>2019</td><td>Piedmont International University</td><td>women</td><td> 203879</td></tr>\n",
       "\t<tr><td>2019</td><td>Purdue University Northwest      </td><td>men  </td><td> 429053</td></tr>\n",
       "\t<tr><td>2019</td><td>Purdue University Northwest      </td><td>women</td><td> 357617</td></tr>\n",
       "\t<tr><td>2019</td><td>Champion Christian College       </td><td>men  </td><td> 104775</td></tr>\n",
       "\t<tr><td>2019</td><td>Champion Christian College       </td><td>women</td><td>  62345</td></tr>\n",
       "\t<tr><td>2019</td><td>Simon Fraser University          </td><td>men  </td><td> 549740</td></tr>\n",
       "\t<tr><td>2019</td><td>Simon Fraser University          </td><td>women</td><td> 547230</td></tr>\n",
       "</tbody>\n",
       "</table>\n"
      ],
      "text/latex": [
       "A tibble: 20000 × 4\n",
       "\\begin{tabular}{llll}\n",
       " year & institution\\_name & men\\_or\\_women & expenditure\\_usd\\\\\n",
       " <dbl> & <chr> & <chr> & <dbl>\\\\\n",
       "\\hline\n",
       "\t 2015 & Alabama A \\& M University                            & men   &  817868\\\\\n",
       "\t 2015 & Alabama A \\& M University                            & women &  742460\\\\\n",
       "\t 2015 & University of Alabama at Birmingham                 & men   & 4189826\\\\\n",
       "\t 2015 & University of Alabama at Birmingham                 & women & 1962579\\\\\n",
       "\t 2015 & University of Alabama in Huntsville                 & men   &  612569\\\\\n",
       "\t 2015 & University of Alabama in Huntsville                 & women &  386007\\\\\n",
       "\t 2015 & Alabama State University                            & men   &  859867\\\\\n",
       "\t 2015 & Alabama State University                            & women &  695056\\\\\n",
       "\t 2015 & The University of Alabama                           & men   & 8577428\\\\\n",
       "\t 2015 & The University of Alabama                           & women & 3550880\\\\\n",
       "\t 2015 & Auburn University at Montgomery                     & men   &  427164\\\\\n",
       "\t 2015 & Auburn University at Montgomery                     & women &  391773\\\\\n",
       "\t 2015 & Auburn University                                   & men   & 8821985\\\\\n",
       "\t 2015 & Auburn University                                   & women & 3959159\\\\\n",
       "\t 2015 & Birmingham Southern College                         & men   &  197692\\\\\n",
       "\t 2015 & Birmingham Southern College                         & women &  168107\\\\\n",
       "\t 2015 & Chattahoochee Valley Community College              & men   &  274822\\\\\n",
       "\t 2015 & Chattahoochee Valley Community College              & women &  227140\\\\\n",
       "\t 2015 & Concordia College Alabama                           & men   &  153582\\\\\n",
       "\t 2015 & Concordia College Alabama                           & women &  118010\\\\\n",
       "\t 2015 & Enterprise State Community College                  & men   &  118667\\\\\n",
       "\t 2015 & Enterprise State Community College                  & women &  106631\\\\\n",
       "\t 2015 & James H Faulkner State Community College            & men   &  221921\\\\\n",
       "\t 2015 & James H Faulkner State Community College            & women &  157552\\\\\n",
       "\t 2015 & Faulkner University                                 & men   &  622869\\\\\n",
       "\t 2015 & Faulkner University                                 & women &  562109\\\\\n",
       "\t 2015 & Gadsden State Community College                     & men   &  109029\\\\\n",
       "\t 2015 & Gadsden State Community College                     & women &  117641\\\\\n",
       "\t 2015 & George C Wallace State Community College-Hanceville & men   &  203674\\\\\n",
       "\t 2015 & George C Wallace State Community College-Hanceville & women &  133415\\\\\n",
       "\t ⋮ & ⋮ & ⋮ & ⋮\\\\\n",
       "\t 2019 & Middle Georgia State University   & men   &  168907\\\\\n",
       "\t 2019 & Middle Georgia State University   & women &  126771\\\\\n",
       "\t 2019 & University of North Georgia       & men   &  509209\\\\\n",
       "\t 2019 & University of North Georgia       & women &  494853\\\\\n",
       "\t 2019 & South Georgia State College       & men   &  106955\\\\\n",
       "\t 2019 & South Georgia State College       & women &      NA\\\\\n",
       "\t 2019 & Central Georgia Technical College & men   &  149433\\\\\n",
       "\t 2019 & Central Georgia Technical College & women &  138595\\\\\n",
       "\t 2019 & Georgia Military College          & men   &      NA\\\\\n",
       "\t 2019 & Georgia Military College          & women &      NA\\\\\n",
       "\t 2019 & Kennesaw State University         & men   & 1471167\\\\\n",
       "\t 2019 & Kennesaw State University         & women & 1192178\\\\\n",
       "\t 2019 & Milligan College                  & men   &  357684\\\\\n",
       "\t 2019 & Milligan College                  & women &  369152\\\\\n",
       "\t 2019 & Emory University-Oxford College   & men   &  128696\\\\\n",
       "\t 2019 & Emory University-Oxford College   & women &      NA\\\\\n",
       "\t 2019 & Husson University                 & men   &   76660\\\\\n",
       "\t 2019 & Husson University                 & women &  155639\\\\\n",
       "\t 2019 & University of Saint Katherine     & men   &  264993\\\\\n",
       "\t 2019 & University of Saint Katherine     & women &  195656\\\\\n",
       "\t 2019 & Clovis Community College          & men   &      NA\\\\\n",
       "\t 2019 & Clovis Community College          & women &      NA\\\\\n",
       "\t 2019 & Piedmont International University & men   &  222383\\\\\n",
       "\t 2019 & Piedmont International University & women &  203879\\\\\n",
       "\t 2019 & Purdue University Northwest       & men   &  429053\\\\\n",
       "\t 2019 & Purdue University Northwest       & women &  357617\\\\\n",
       "\t 2019 & Champion Christian College        & men   &  104775\\\\\n",
       "\t 2019 & Champion Christian College        & women &   62345\\\\\n",
       "\t 2019 & Simon Fraser University           & men   &  549740\\\\\n",
       "\t 2019 & Simon Fraser University           & women &  547230\\\\\n",
       "\\end{tabular}\n"
      ],
      "text/markdown": [
       "\n",
       "A tibble: 20000 × 4\n",
       "\n",
       "| year &lt;dbl&gt; | institution_name &lt;chr&gt; | men_or_women &lt;chr&gt; | expenditure_usd &lt;dbl&gt; |\n",
       "|---|---|---|---|\n",
       "| 2015 | Alabama A &amp; M University                            | men   |  817868 |\n",
       "| 2015 | Alabama A &amp; M University                            | women |  742460 |\n",
       "| 2015 | University of Alabama at Birmingham                 | men   | 4189826 |\n",
       "| 2015 | University of Alabama at Birmingham                 | women | 1962579 |\n",
       "| 2015 | University of Alabama in Huntsville                 | men   |  612569 |\n",
       "| 2015 | University of Alabama in Huntsville                 | women |  386007 |\n",
       "| 2015 | Alabama State University                            | men   |  859867 |\n",
       "| 2015 | Alabama State University                            | women |  695056 |\n",
       "| 2015 | The University of Alabama                           | men   | 8577428 |\n",
       "| 2015 | The University of Alabama                           | women | 3550880 |\n",
       "| 2015 | Auburn University at Montgomery                     | men   |  427164 |\n",
       "| 2015 | Auburn University at Montgomery                     | women |  391773 |\n",
       "| 2015 | Auburn University                                   | men   | 8821985 |\n",
       "| 2015 | Auburn University                                   | women | 3959159 |\n",
       "| 2015 | Birmingham Southern College                         | men   |  197692 |\n",
       "| 2015 | Birmingham Southern College                         | women |  168107 |\n",
       "| 2015 | Chattahoochee Valley Community College              | men   |  274822 |\n",
       "| 2015 | Chattahoochee Valley Community College              | women |  227140 |\n",
       "| 2015 | Concordia College Alabama                           | men   |  153582 |\n",
       "| 2015 | Concordia College Alabama                           | women |  118010 |\n",
       "| 2015 | Enterprise State Community College                  | men   |  118667 |\n",
       "| 2015 | Enterprise State Community College                  | women |  106631 |\n",
       "| 2015 | James H Faulkner State Community College            | men   |  221921 |\n",
       "| 2015 | James H Faulkner State Community College            | women |  157552 |\n",
       "| 2015 | Faulkner University                                 | men   |  622869 |\n",
       "| 2015 | Faulkner University                                 | women |  562109 |\n",
       "| 2015 | Gadsden State Community College                     | men   |  109029 |\n",
       "| 2015 | Gadsden State Community College                     | women |  117641 |\n",
       "| 2015 | George C Wallace State Community College-Hanceville | men   |  203674 |\n",
       "| 2015 | George C Wallace State Community College-Hanceville | women |  133415 |\n",
       "| ⋮ | ⋮ | ⋮ | ⋮ |\n",
       "| 2019 | Middle Georgia State University   | men   |  168907 |\n",
       "| 2019 | Middle Georgia State University   | women |  126771 |\n",
       "| 2019 | University of North Georgia       | men   |  509209 |\n",
       "| 2019 | University of North Georgia       | women |  494853 |\n",
       "| 2019 | South Georgia State College       | men   |  106955 |\n",
       "| 2019 | South Georgia State College       | women |      NA |\n",
       "| 2019 | Central Georgia Technical College | men   |  149433 |\n",
       "| 2019 | Central Georgia Technical College | women |  138595 |\n",
       "| 2019 | Georgia Military College          | men   |      NA |\n",
       "| 2019 | Georgia Military College          | women |      NA |\n",
       "| 2019 | Kennesaw State University         | men   | 1471167 |\n",
       "| 2019 | Kennesaw State University         | women | 1192178 |\n",
       "| 2019 | Milligan College                  | men   |  357684 |\n",
       "| 2019 | Milligan College                  | women |  369152 |\n",
       "| 2019 | Emory University-Oxford College   | men   |  128696 |\n",
       "| 2019 | Emory University-Oxford College   | women |      NA |\n",
       "| 2019 | Husson University                 | men   |   76660 |\n",
       "| 2019 | Husson University                 | women |  155639 |\n",
       "| 2019 | University of Saint Katherine     | men   |  264993 |\n",
       "| 2019 | University of Saint Katherine     | women |  195656 |\n",
       "| 2019 | Clovis Community College          | men   |      NA |\n",
       "| 2019 | Clovis Community College          | women |      NA |\n",
       "| 2019 | Piedmont International University | men   |  222383 |\n",
       "| 2019 | Piedmont International University | women |  203879 |\n",
       "| 2019 | Purdue University Northwest       | men   |  429053 |\n",
       "| 2019 | Purdue University Northwest       | women |  357617 |\n",
       "| 2019 | Champion Christian College        | men   |  104775 |\n",
       "| 2019 | Champion Christian College        | women |   62345 |\n",
       "| 2019 | Simon Fraser University           | men   |  549740 |\n",
       "| 2019 | Simon Fraser University           | women |  547230 |\n",
       "\n"
      ],
      "text/plain": [
       "      year institution_name                                    men_or_women\n",
       "1     2015 Alabama A & M University                            men         \n",
       "2     2015 Alabama A & M University                            women       \n",
       "3     2015 University of Alabama at Birmingham                 men         \n",
       "4     2015 University of Alabama at Birmingham                 women       \n",
       "5     2015 University of Alabama in Huntsville                 men         \n",
       "6     2015 University of Alabama in Huntsville                 women       \n",
       "7     2015 Alabama State University                            men         \n",
       "8     2015 Alabama State University                            women       \n",
       "9     2015 The University of Alabama                           men         \n",
       "10    2015 The University of Alabama                           women       \n",
       "11    2015 Auburn University at Montgomery                     men         \n",
       "12    2015 Auburn University at Montgomery                     women       \n",
       "13    2015 Auburn University                                   men         \n",
       "14    2015 Auburn University                                   women       \n",
       "15    2015 Birmingham Southern College                         men         \n",
       "16    2015 Birmingham Southern College                         women       \n",
       "17    2015 Chattahoochee Valley Community College              men         \n",
       "18    2015 Chattahoochee Valley Community College              women       \n",
       "19    2015 Concordia College Alabama                           men         \n",
       "20    2015 Concordia College Alabama                           women       \n",
       "21    2015 Enterprise State Community College                  men         \n",
       "22    2015 Enterprise State Community College                  women       \n",
       "23    2015 James H Faulkner State Community College            men         \n",
       "24    2015 James H Faulkner State Community College            women       \n",
       "25    2015 Faulkner University                                 men         \n",
       "26    2015 Faulkner University                                 women       \n",
       "27    2015 Gadsden State Community College                     men         \n",
       "28    2015 Gadsden State Community College                     women       \n",
       "29    2015 George C Wallace State Community College-Hanceville men         \n",
       "30    2015 George C Wallace State Community College-Hanceville women       \n",
       "⋮     ⋮    ⋮                                                   ⋮           \n",
       "19971 2019 Middle Georgia State University                     men         \n",
       "19972 2019 Middle Georgia State University                     women       \n",
       "19973 2019 University of North Georgia                         men         \n",
       "19974 2019 University of North Georgia                         women       \n",
       "19975 2019 South Georgia State College                         men         \n",
       "19976 2019 South Georgia State College                         women       \n",
       "19977 2019 Central Georgia Technical College                   men         \n",
       "19978 2019 Central Georgia Technical College                   women       \n",
       "19979 2019 Georgia Military College                            men         \n",
       "19980 2019 Georgia Military College                            women       \n",
       "19981 2019 Kennesaw State University                           men         \n",
       "19982 2019 Kennesaw State University                           women       \n",
       "19983 2019 Milligan College                                    men         \n",
       "19984 2019 Milligan College                                    women       \n",
       "19985 2019 Emory University-Oxford College                     men         \n",
       "19986 2019 Emory University-Oxford College                     women       \n",
       "19987 2019 Husson University                                   men         \n",
       "19988 2019 Husson University                                   women       \n",
       "19989 2019 University of Saint Katherine                       men         \n",
       "19990 2019 University of Saint Katherine                       women       \n",
       "19991 2019 Clovis Community College                            men         \n",
       "19992 2019 Clovis Community College                            women       \n",
       "19993 2019 Piedmont International University                   men         \n",
       "19994 2019 Piedmont International University                   women       \n",
       "19995 2019 Purdue University Northwest                         men         \n",
       "19996 2019 Purdue University Northwest                         women       \n",
       "19997 2019 Champion Christian College                          men         \n",
       "19998 2019 Champion Christian College                          women       \n",
       "19999 2019 Simon Fraser University                             men         \n",
       "20000 2019 Simon Fraser University                             women       \n",
       "      expenditure_usd\n",
       "1      817868        \n",
       "2      742460        \n",
       "3     4189826        \n",
       "4     1962579        \n",
       "5      612569        \n",
       "6      386007        \n",
       "7      859867        \n",
       "8      695056        \n",
       "9     8577428        \n",
       "10    3550880        \n",
       "11     427164        \n",
       "12     391773        \n",
       "13    8821985        \n",
       "14    3959159        \n",
       "15     197692        \n",
       "16     168107        \n",
       "17     274822        \n",
       "18     227140        \n",
       "19     153582        \n",
       "20     118010        \n",
       "21     118667        \n",
       "22     106631        \n",
       "23     221921        \n",
       "24     157552        \n",
       "25     622869        \n",
       "26     562109        \n",
       "27     109029        \n",
       "28     117641        \n",
       "29     203674        \n",
       "30     133415        \n",
       "⋮     ⋮              \n",
       "19971  168907        \n",
       "19972  126771        \n",
       "19973  509209        \n",
       "19974  494853        \n",
       "19975  106955        \n",
       "19976      NA        \n",
       "19977  149433        \n",
       "19978  138595        \n",
       "19979      NA        \n",
       "19980      NA        \n",
       "19981 1471167        \n",
       "19982 1192178        \n",
       "19983  357684        \n",
       "19984  369152        \n",
       "19985  128696        \n",
       "19986      NA        \n",
       "19987   76660        \n",
       "19988  155639        \n",
       "19989  264993        \n",
       "19990  195656        \n",
       "19991      NA        \n",
       "19992      NA        \n",
       "19993  222383        \n",
       "19994  203879        \n",
       "19995  429053        \n",
       "19996  357617        \n",
       "19997  104775        \n",
       "19998   62345        \n",
       "19999  549740        \n",
       "20000  547230        "
      ]
     },
     "metadata": {},
     "output_type": "display_data"
    }
   ],
   "source": [
    "data_url = 'https://raw.githubusercontent.com/rfordatascience/tidytuesday/master/data/2022/2022-03-29/sports.csv'\n",
    "\n",
    "ncaa_sports_spending = read_csv(data_url, col_types = cols()) |> \n",
    "    filter(sports == 'Basketball') |>\n",
    "    pivot_longer(c(exp_men, exp_women), names_to = 'men_or_women', values_to = 'expenditure_usd') |>\n",
    "    select(year, institution_name, men_or_women, expenditure_usd) |>\n",
    "    mutate(men_or_women = str_replace(men_or_women, 'exp_', ''))\n",
    "\n",
    "ncaa_sports_spending"
   ]
  },
  {
   "cell_type": "markdown",
   "id": "2b5fed88-3327-47fb-b557-79549a35228b",
   "metadata": {},
   "source": [
    "**Compare the spending on men's versus women's basketball over time using a bar chart.**\n",
    "\n",
    "Either use an *encoding* or *facet* to plot separate bars for men and women.\n",
    "\n",
    "(**Hint** you can use `geom_col` with `x` and `y` encodings so the bar height reflects spending.)"
   ]
  },
  {
   "cell_type": "code",
   "execution_count": 3,
   "id": "72c869ad-0faa-43c6-b020-25182e654a99",
   "metadata": {
    "tags": []
   },
   "outputs": [
    {
     "name": "stderr",
     "output_type": "stream",
     "text": [
      "Warning message:\n",
      "“\u001b[1m\u001b[22mRemoved 609 rows containing missing values (`position_stack()`).”\n"
     ]
    },
    {
     "data": {
      "image/png": "[encoded data removed]",
      "text/plain": [
       "plot without title"
      ]
     },
     "metadata": {
      "image/png": {
       "height": 420,
       "width": 420
      }
     },
     "output_type": "display_data"
    }
   ],
   "source": [
    "# bar chart code goes here\n",
    "\n",
    "mw_spend_bar = ggplot(ncaa_sports_spending, aes(x=year, y=expenditure_usd)) +\n",
    "    geom_col() +\n",
    "    scale_y_continuous(labels = scales::dollar_format()) +\n",
    "    facet_wrap(~men_or_women)\n",
    "\n",
    "mw_spend_bar\n",
    "\n"
   ]
  },
  {
   "cell_type": "markdown",
   "id": "743bf2e1-7fe3-4caf-8fd2-244277a82a3b",
   "metadata": {},
   "source": [
    "You can find my solution [here](https://raw.githubusercontent.com/chuckpr/BIOS512/main/assignments/sports_spendig_chart.png). **Your chart does not need to look exactly like mine!** You may arrive at a different solution 🙂. \n",
    "\n",
    "To get the dollar signs in the axis labels I added this adujustment to my chart:\n",
    "\n",
    "```r\n",
    "scale_y_continuous(labels = scales::dollar_format())\n",
    "```"
   ]
  },
  {
   "cell_type": "markdown",
   "id": "39f20ace-fd8c-4722-a312-4a0761ef55cf",
   "metadata": {},
   "source": [
    "**Visualize the same data but this time with a line chart. Make sure your lines are \"grouped\" according to the `men_or_women` column.**"
   ]
  },
  {
   "cell_type": "code",
   "execution_count": null,
   "id": "f8bdad7c-0c6d-495e-92ad-bfafc435e727",
   "metadata": {
    "tags": []
   },
   "outputs": [],
   "source": [
    "head(ncaa_sports_spending)"
   ]
  },
  {
   "cell_type": "code",
   "execution_count": 5,
   "id": "6a87cd04-27df-4703-99fe-7eeedcebf997",
   "metadata": {
    "tags": []
   },
   "outputs": [
    {
     "name": "stderr",
     "output_type": "stream",
     "text": [
      "\u001b[1m\u001b[22m`summarise()` has grouped output by 'year'. You can override using the\n",
      "`.groups` argument.\n"
     ]
    },
    {
     "data": {
      "text/html": [
       "<table class=\"dataframe\">\n",
       "<caption>A grouped_df: 6 × 3</caption>\n",
       "<thead>\n",
       "\t<tr><th scope=col>year</th><th scope=col>men_or_women</th><th scope=col>expenditure_usd</th></tr>\n",
       "\t<tr><th scope=col>&lt;dbl&gt;</th><th scope=col>&lt;chr&gt;</th><th scope=col>&lt;dbl&gt;</th></tr>\n",
       "</thead>\n",
       "<tbody>\n",
       "\t<tr><td>2015</td><td>men  </td><td>1622132863</td></tr>\n",
       "\t<tr><td>2015</td><td>women</td><td>1013740678</td></tr>\n",
       "\t<tr><td>2016</td><td>men  </td><td>1695782608</td></tr>\n",
       "\t<tr><td>2016</td><td>women</td><td>1057390299</td></tr>\n",
       "\t<tr><td>2017</td><td>men  </td><td>1809020416</td></tr>\n",
       "\t<tr><td>2017</td><td>women</td><td>1105637602</td></tr>\n",
       "</tbody>\n",
       "</table>\n"
      ],
      "text/latex": [
       "A grouped\\_df: 6 × 3\n",
       "\\begin{tabular}{lll}\n",
       " year & men\\_or\\_women & expenditure\\_usd\\\\\n",
       " <dbl> & <chr> & <dbl>\\\\\n",
       "\\hline\n",
       "\t 2015 & men   & 1622132863\\\\\n",
       "\t 2015 & women & 1013740678\\\\\n",
       "\t 2016 & men   & 1695782608\\\\\n",
       "\t 2016 & women & 1057390299\\\\\n",
       "\t 2017 & men   & 1809020416\\\\\n",
       "\t 2017 & women & 1105637602\\\\\n",
       "\\end{tabular}\n"
      ],
      "text/markdown": [
       "\n",
       "A grouped_df: 6 × 3\n",
       "\n",
       "| year &lt;dbl&gt; | men_or_women &lt;chr&gt; | expenditure_usd &lt;dbl&gt; |\n",
       "|---|---|---|\n",
       "| 2015 | men   | 1622132863 |\n",
       "| 2015 | women | 1013740678 |\n",
       "| 2016 | men   | 1695782608 |\n",
       "| 2016 | women | 1057390299 |\n",
       "| 2017 | men   | 1809020416 |\n",
       "| 2017 | women | 1105637602 |\n",
       "\n"
      ],
      "text/plain": [
       "  year men_or_women expenditure_usd\n",
       "1 2015 men          1622132863     \n",
       "2 2015 women        1013740678     \n",
       "3 2016 men          1695782608     \n",
       "4 2016 women        1057390299     \n",
       "5 2017 men          1809020416     \n",
       "6 2017 women        1105637602     "
      ]
     },
     "metadata": {},
     "output_type": "display_data"
    }
   ],
   "source": [
    "ncaa_sports_spending2 = ncaa_sports_spending |>\n",
    "    group_by(year, men_or_women) |>\n",
    "    summarize(expenditure_usd = sum(expenditure_usd, na.rm = TRUE))\n",
    "\n",
    "ncaa_sports_spending2 |> head()"
   ]
  },
  {
   "cell_type": "code",
   "execution_count": 6,
   "id": "57b46cd5-4a9d-43a1-9143-99bb3ea22ad4",
   "metadata": {},
   "outputs": [
    {
     "data": {
      "image/png": "[encoded data removed]",
      "text/plain": [
       "plot without title"
      ]
     },
     "metadata": {
      "image/png": {
       "height": 300,
       "width": 600
      }
     },
     "output_type": "display_data"
    }
   ],
   "source": [
    "# line chart code goes here\n",
    "\n",
    "options(repr.plot.width = 10, repr.plot.height = 5)\n",
    "\n",
    "p = ggplot(ncaa_sports_spending2, aes(x=year, y=expenditure_usd, color=men_or_women)) +\n",
    "    geom_line() +\n",
    "    geom_point() +\n",
    "    scale_y_continuous(labels = scales::dollar_format(suffix = 'M')) + \n",
    "    labs(y = 'Spending') +\n",
    "    theme(legend.position = 'top')\n",
    "\n",
    "p"
   ]
  },
  {
   "cell_type": "markdown",
   "id": "2b4fb941-d796-416f-85ec-dc7a5a3c14ad",
   "metadata": {},
   "source": [
    "Uncomment and execute the code below to get a table for just UNC sports spending in 2019 called `unc_sports_spending_2019`."
   ]
  },
  {
   "cell_type": "code",
   "execution_count": 7,
   "id": "847246e9-530e-4b70-ab66-678a41ee0e0e",
   "metadata": {},
   "outputs": [
    {
     "data": {
      "text/html": [
       "<table class=\"dataframe\">\n",
       "<caption>A tibble: 6 × 5</caption>\n",
       "<thead>\n",
       "\t<tr><th scope=col>year</th><th scope=col>institution_name</th><th scope=col>sports</th><th scope=col>men_or_women</th><th scope=col>expenditure_usd</th></tr>\n",
       "\t<tr><th scope=col>&lt;dbl&gt;</th><th scope=col>&lt;chr&gt;</th><th scope=col>&lt;fct&gt;</th><th scope=col>&lt;chr&gt;</th><th scope=col>&lt;dbl&gt;</th></tr>\n",
       "</thead>\n",
       "<tbody>\n",
       "\t<tr><td>2019</td><td>University of North Carolina at Chapel Hill</td><td>Fencing            </td><td>women</td><td> 212291</td></tr>\n",
       "\t<tr><td>2019</td><td>University of North Carolina at Chapel Hill</td><td>Golf               </td><td>women</td><td> 729939</td></tr>\n",
       "\t<tr><td>2019</td><td>University of North Carolina at Chapel Hill</td><td>Rowing             </td><td>women</td><td> 745952</td></tr>\n",
       "\t<tr><td>2019</td><td>University of North Carolina at Chapel Hill</td><td>Gymnastics         </td><td>women</td><td>1022938</td></tr>\n",
       "\t<tr><td>2019</td><td>University of North Carolina at Chapel Hill</td><td>Tennis             </td><td>women</td><td>1064746</td></tr>\n",
       "\t<tr><td>2019</td><td>University of North Carolina at Chapel Hill</td><td>Swimming and Diving</td><td>women</td><td>1255235</td></tr>\n",
       "</tbody>\n",
       "</table>\n"
      ],
      "text/latex": [
       "A tibble: 6 × 5\n",
       "\\begin{tabular}{lllll}\n",
       " year & institution\\_name & sports & men\\_or\\_women & expenditure\\_usd\\\\\n",
       " <dbl> & <chr> & <fct> & <chr> & <dbl>\\\\\n",
       "\\hline\n",
       "\t 2019 & University of North Carolina at Chapel Hill & Fencing             & women &  212291\\\\\n",
       "\t 2019 & University of North Carolina at Chapel Hill & Golf                & women &  729939\\\\\n",
       "\t 2019 & University of North Carolina at Chapel Hill & Rowing              & women &  745952\\\\\n",
       "\t 2019 & University of North Carolina at Chapel Hill & Gymnastics          & women & 1022938\\\\\n",
       "\t 2019 & University of North Carolina at Chapel Hill & Tennis              & women & 1064746\\\\\n",
       "\t 2019 & University of North Carolina at Chapel Hill & Swimming and Diving & women & 1255235\\\\\n",
       "\\end{tabular}\n"
      ],
      "text/markdown": [
       "\n",
       "A tibble: 6 × 5\n",
       "\n",
       "| year &lt;dbl&gt; | institution_name &lt;chr&gt; | sports &lt;fct&gt; | men_or_women &lt;chr&gt; | expenditure_usd &lt;dbl&gt; |\n",
       "|---|---|---|---|---|\n",
       "| 2019 | University of North Carolina at Chapel Hill | Fencing             | women |  212291 |\n",
       "| 2019 | University of North Carolina at Chapel Hill | Golf                | women |  729939 |\n",
       "| 2019 | University of North Carolina at Chapel Hill | Rowing              | women |  745952 |\n",
       "| 2019 | University of North Carolina at Chapel Hill | Gymnastics          | women | 1022938 |\n",
       "| 2019 | University of North Carolina at Chapel Hill | Tennis              | women | 1064746 |\n",
       "| 2019 | University of North Carolina at Chapel Hill | Swimming and Diving | women | 1255235 |\n",
       "\n"
      ],
      "text/plain": [
       "  year institution_name                            sports             \n",
       "1 2019 University of North Carolina at Chapel Hill Fencing            \n",
       "2 2019 University of North Carolina at Chapel Hill Golf               \n",
       "3 2019 University of North Carolina at Chapel Hill Rowing             \n",
       "4 2019 University of North Carolina at Chapel Hill Gymnastics         \n",
       "5 2019 University of North Carolina at Chapel Hill Tennis             \n",
       "6 2019 University of North Carolina at Chapel Hill Swimming and Diving\n",
       "  men_or_women expenditure_usd\n",
       "1 women         212291        \n",
       "2 women         729939        \n",
       "3 women         745952        \n",
       "4 women        1022938        \n",
       "5 women        1064746        \n",
       "6 women        1255235        "
      ]
     },
     "metadata": {},
     "output_type": "display_data"
    }
   ],
   "source": [
    "unc_sports_spending_2019 = read_csv(data_url, col_types = cols()) |> \n",
    "    filter(institution_name == 'University of North Carolina at Chapel Hill', year == 2019) |>\n",
    "    pivot_longer(c(exp_men, exp_women), names_to = 'men_or_women', values_to = 'expenditure_usd') |>\n",
    "    arrange(rev(men_or_women), expenditure_usd) |>\n",
    "    mutate(sports = fct_inorder(sports)) |>\n",
    "    select(year, institution_name, sports, men_or_women, expenditure_usd) |>\n",
    "    mutate(men_or_women = str_replace(men_or_women, 'exp_', '')) |>\n",
    "    filter(!is.na(expenditure_usd))\n",
    "\n",
    "head(unc_sports_spending_2019)"
   ]
  },
  {
   "cell_type": "markdown",
   "id": "b2e667a5-6252-42e9-9f21-f36f73490f6a",
   "metadata": {},
   "source": [
    "Make a bar chart that compares spending across all sports for men versus women at UNC in 2019."
   ]
  },
  {
   "cell_type": "code",
   "execution_count": 8,
   "id": "86be63e5-5a95-4792-8330-5302430fdecf",
   "metadata": {},
   "outputs": [
    {
     "data": {
      "image/png": "[encoded data removed]",
      "text/plain": [
       "plot without title"
      ]
     },
     "metadata": {
      "image/png": {
       "height": 300,
       "width": 600
      }
     },
     "output_type": "display_data"
    }
   ],
   "source": [
    "# bar chart code goes here\n",
    "\n",
    "p = ggplot(unc_sports_spending_2019, aes(x=expenditure_usd, y = sports, weight= expenditure_usd/1e6), color= men_or_women) +\n",
    "        geom_col() + facet_wrap(~men_or_women) + labs(x = 'Spending') +\n",
    "        scale_x_continuous(labels = scales:: dollar_format())\n",
    "p"
   ]
  },
  {
   "cell_type": "markdown",
   "id": "377fe163-60fc-4e93-b8b9-322a4ba3e345",
   "metadata": {},
   "source": [
    "You can find my solution [here](https://raw.githubusercontent.com/chuckpr/BIOS512/main/assignments/unc_sports_spending.png). **Your chart does not need to look exactly like mine!**\n",
    "\n",
    "To get the fancy dollar labels I had to do a couple things:\n",
    "\n",
    "First my `weight` encoding was like this:\n",
    "```r\n",
    "weight = expenditure_usd / 1e6\n",
    "```\n",
    "\n",
    "Second, I added this to my chart adjust how my axis labels were presented:\n",
    "```r\n",
    "scale_x_continuous(labels = scales::dollar_format(suffix = 'M')) + labs(x = 'Spending')\n",
    "```\n",
    "\n",
    "**BONUS** \n",
    "Can you make sense of the code above? What does the `labs` function do for instance?"
   ]
  },
  {
   "cell_type": "markdown",
   "id": "964e6788-5fc4-45c7-877c-fdcdb3b22494",
   "metadata": {},
   "source": [
    "the code adds labels and provides the $ format with commas for the monetary values."
   ]
  }
 ],
 "metadata": {
  "kernelspec": {
   "display_name": "bios512:R",
   "language": "R",
   "name": "conda-env-bios512-r"
  },
  "language_info": {
   "codemirror_mode": "r",
   "file_extension": ".r",
   "mimetype": "text/x-r-source",
   "name": "R",
   "pygments_lexer": "r",
   "version": "4.3.1"
  }
 },
 "nbformat": 4,
 "nbformat_minor": 5
}
